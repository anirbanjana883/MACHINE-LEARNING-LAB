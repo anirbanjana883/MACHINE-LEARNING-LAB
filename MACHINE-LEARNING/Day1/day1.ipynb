{
 "cells": [
  {
   "cell_type": "code",
   "execution_count": 1,
   "id": "9fa53858",
   "metadata": {},
   "outputs": [
    {
     "name": "stdout",
     "output_type": "stream",
     "text": [
      "Enter first number \n",
      "5\n",
      "Enter second number \n",
      "6\n",
      "the sum is  11\n"
     ]
    }
   ],
   "source": [
    "print(\"Enter first number \")\n",
    "x = int(input())\n",
    "print(\"Enter second number \")\n",
    "y = int(input())\n",
    "z = x + y\n",
    "print(\"the sum is \" , z)"
   ]
  },
  {
   "cell_type": "code",
   "execution_count": 5,
   "id": "16544559",
   "metadata": {},
   "outputs": [
    {
     "name": "stdout",
     "output_type": "stream",
     "text": [
      "Enter first number \n",
      "4\n",
      "Enter second number \n",
      "7\n",
      "4 = 7 = 11\n"
     ]
    }
   ],
   "source": [
    "print(\"Enter first number \")\n",
    "x = int(input())\n",
    "print(\"Enter second number \")\n",
    "y = int(input())\n",
    "z = x + y\n",
    "print(\"{} = {} = {}\"  .format( x , y ,z))"
   ]
  },
  {
   "cell_type": "code",
   "execution_count": 6,
   "id": "611e2f7a",
   "metadata": {},
   "outputs": [
    {
     "name": "stdout",
     "output_type": "stream",
     "text": [
      "Enter first number \n",
      "7\n",
      "Enter second number \n",
      "8\n",
      "7 + 8 = 15\n"
     ]
    }
   ],
   "source": [
    "print(\"Enter first number \")\n",
    "x = int(input())\n",
    "print(\"Enter second number \")\n",
    "y = int(input())\n",
    "z = x + y\n",
    "print(x,\"+\",y,\"=\",z)"
   ]
  },
  {
   "cell_type": "code",
   "execution_count": 10,
   "id": "80e32002",
   "metadata": {
    "scrolled": true
   },
   "outputs": [
    {
     "name": "stdout",
     "output_type": "stream",
     "text": [
      "[1 2 3 4]\n",
      "[5 6 7 8]\n"
     ]
    }
   ],
   "source": [
    "import numpy as np\n",
    "a = np.array([1,2,3,4])\n",
    "b = np.array([5,6,7,8])\n",
    "print(a)\n",
    "print(b)"
   ]
  },
  {
   "cell_type": "code",
   "execution_count": 12,
   "id": "28d8eaa8",
   "metadata": {},
   "outputs": [
    {
     "name": "stdout",
     "output_type": "stream",
     "text": [
      "[1 2 3 4 5 6 7 8 9]\n"
     ]
    }
   ],
   "source": [
    "aa = np.arange(1,10,1)\n",
    "print(aa)"
   ]
  },
  {
   "cell_type": "code",
   "execution_count": 17,
   "id": "00de6d99",
   "metadata": {},
   "outputs": [
    {
     "name": "stdout",
     "output_type": "stream",
     "text": [
      "[[1 2 3]\n",
      " [4 5 6]\n",
      " [7 8 9]]\n"
     ]
    }
   ],
   "source": [
    "aa = np.arange(1,10,1).reshape(3,3)\n",
    "print(aa) "
   ]
  },
  {
   "cell_type": "code",
   "execution_count": 18,
   "id": "fa46a6c9",
   "metadata": {
    "scrolled": true
   },
   "outputs": [
    {
     "name": "stdout",
     "output_type": "stream",
     "text": [
      "(2, 4)\n"
     ]
    }
   ],
   "source": [
    "a1 = np.array([[1,2,3,4],[5,6,7,8]])\n",
    "print(a1.shape)"
   ]
  },
  {
   "cell_type": "code",
   "execution_count": 19,
   "id": "8d03d59c",
   "metadata": {},
   "outputs": [
    {
     "name": "stdout",
     "output_type": "stream",
     "text": [
      "3.3333333333333335\n"
     ]
    }
   ],
   "source": [
    "a2 = np.array([5,2,3])\n",
    "print(np.mean(a2))"
   ]
  },
  {
   "cell_type": "code",
   "execution_count": 20,
   "id": "b0cad001",
   "metadata": {},
   "outputs": [
    {
     "name": "stdout",
     "output_type": "stream",
     "text": [
      "[-12   1   2   3   5]\n"
     ]
    }
   ],
   "source": [
    "a3 = np.array([5,3,2,-12,1])\n",
    "print(np.sort(a3))"
   ]
  },
  {
   "cell_type": "code",
   "execution_count": 24,
   "id": "5dbde76b",
   "metadata": {},
   "outputs": [
    {
     "name": "stdout",
     "output_type": "stream",
     "text": [
      "[[ 2  4  6  0]\n",
      " [10 12 14  0]\n",
      " [18 20 22  0]]\n",
      "[[0 0 0 0]\n",
      " [0 0 0 0]\n",
      " [0 0 0 0]]\n"
     ]
    }
   ],
   "source": [
    "a5 = np.array([[1,2,3,4],[5,6,7,8],[9,10,11,12]])\n",
    "a6 = np.array([[1,2,3,4],[5,6,7,8],[9,10,11,12]])\n",
    "\n",
    "a7 = np.array([[0,0,0,0],[0,0,0,0],[0,0,0,0]])\n",
    "a8 = np.array([[0,0,0,0],[0,0,0,0],[0,0,0,0]])\n",
    "for i in range (0 , 3 ,1) :\n",
    "    for j in range (0 , 3 ,1) :\n",
    "        a7[i][j] = a5[i][j] + a6[i][j]\n",
    "        a8[i][j] = a5[i][j] - a6[i][j]\n",
    "        \n",
    "print(a7)\n",
    "print(a8)"
   ]
  },
  {
   "cell_type": "code",
   "execution_count": 25,
   "id": "3e9296e1",
   "metadata": {},
   "outputs": [
    {
     "name": "stdout",
     "output_type": "stream",
     "text": [
      "[[ 2  4  6  8]\n",
      " [10 12 14 16]\n",
      " [18 20 22 24]]\n",
      "[[0 0 0 0]\n",
      " [0 0 0 0]\n",
      " [0 0 0 0]]\n",
      "[[  1   4   9  16]\n",
      " [ 25  36  49  64]\n",
      " [ 81 100 121 144]]\n",
      "[[1. 1. 1. 1.]\n",
      " [1. 1. 1. 1.]\n",
      " [1. 1. 1. 1.]]\n"
     ]
    }
   ],
   "source": [
    "a5 = np.array([[1,2,3,4],[5,6,7,8],[9,10,11,12]])\n",
    "a6 = np.array([[1,2,3,4],[5,6,7,8],[9,10,11,12]])\n",
    "print(a5 + a6)\n",
    "print(a5 - a6)\n",
    "print(a5 * a6)\n",
    "print(a5 / a6)"
   ]
  },
  {
   "cell_type": "code",
   "execution_count": 27,
   "id": "9c7a20a4",
   "metadata": {},
   "outputs": [
    {
     "name": "stdout",
     "output_type": "stream",
     "text": [
      "Enter no 1 :6\n",
      "Enter no 1 :9\n",
      "sum is: 15\n"
     ]
    }
   ],
   "source": [
    "def sum(x,y):\n",
    "    return x + y\n",
    "\n",
    "if __name__ == \"__main__\":\n",
    "    p = int(input(\"Enter no 1 :\"))\n",
    "    q = int(input(\"Enter no 1 :\"))\n",
    "    output = sum (p,q)\n",
    "    print(\"sum is:\", output)\n"
   ]
  },
  {
   "cell_type": "code",
   "execution_count": 28,
   "id": "2ec3a7ec",
   "metadata": {},
   "outputs": [
    {
     "data": {
      "image/png": "[encoded data removed]",
      "text/plain": [
       "<Figure size 640x480 with 1 Axes>"
      ]
     },
     "metadata": {},
     "output_type": "display_data"
    }
   ],
   "source": [
    "import matplotlib.pyplot as plt\n",
    "import numpy as np\n",
    "\n",
    "xpoints = np.array([1,2,6,8])\n",
    "ypoints = np.array([3,8,1,10])\n",
    "plt.title(\"graph\")\n",
    "plt.xlabel(\"x\")\n",
    "plt.ylabel(\"y\")\n",
    "plt.plot(xpoints,ypoints)\n",
    "plt.show()"
   ]
  },
  {
   "cell_type": "code",
   "execution_count": 31,
   "id": "486edb25",
   "metadata": {
    "scrolled": false
   },
   "outputs": [
    {
     "data": {
      "image/png": "[encoded data removed]",
      "text/plain": [
       "<Figure size 640x480 with 1 Axes>"
      ]
     },
     "metadata": {},
     "output_type": "display_data"
    }
   ],
   "source": [
    "import matplotlib.pyplot as plt\n",
    "import numpy as np\n",
    "\n",
    "xpoints = np.array([1,2,6,8])\n",
    "ypoints = np.array([3,8,1,10])\n",
    "plt.title(\"graph\")\n",
    "plt.xlabel(\"x\")\n",
    "plt.ylabel(\"y\")\n",
    "plt.plot(xpoints,ypoints , color = 'red' , linestyle = ':')\n",
    "plt.show()"
   ]
  },
  {
   "cell_type": "code",
   "execution_count": 36,
   "id": "8ac03404",
   "metadata": {},
   "outputs": [
    {
     "name": "stdout",
     "output_type": "stream",
     "text": [
      "0    a\n",
      "1    e\n",
      "2    i\n",
      "3    o\n",
      "4    u\n",
      "dtype: object\n"
     ]
    },
    {
     "name": "stderr",
     "output_type": "stream",
     "text": [
      "C:\\Users\\DELL\\AppData\\Local\\Temp\\ipykernel_1696\\1300331633.py:3: FutureWarning: The default dtype for empty Series will be 'object' instead of 'float64' in a future version. Specify a dtype explicitly to silence this warning.\n",
      "  s = pd.Series()\n"
     ]
    }
   ],
   "source": [
    "import numpy as np\n",
    "import pandas as pd\n",
    "s = pd.Series()\n",
    "d = np.array(['a','e','i','o','u'])\n",
    "s = pd.Series(d) \n",
    "print(s)"
   ]
  },
  {
   "cell_type": "code",
   "execution_count": null,
   "id": "b81ef183",
   "metadata": {},
   "outputs": [],
   "source": []
  },
  {
   "cell_type": "code",
   "execution_count": 40,
   "id": "88c89125",
   "metadata": {},
   "outputs": [
    {
     "name": "stdout",
     "output_type": "stream",
     "text": [
      "   calories  food\n",
      "0       420     1\n",
      "1       360     2\n",
      "2       390     3\n"
     ]
    }
   ],
   "source": [
    "import pandas as pd\n",
    "df = pd.DataFrame()\n",
    "data = {\"calories\":[420 , 360,390],\n",
    "        \"food\":[1,2,3]}\n",
    "df= pd.DataFrame(data)\n",
    "print(df)"
   ]
  },
  {
   "cell_type": "code",
   "execution_count": null,
   "id": "61269099",
   "metadata": {},
   "outputs": [],
   "source": []
  }
 ],
 "metadata": {
  "kernelspec": {
   "display_name": "Python 3 (ipykernel)",
   "language": "python",
   "name": "python3"
  },
  "language_info": {
   "codemirror_mode": {
    "name": "ipython",
    "version": 3
   },
   "file_extension": ".py",
   "mimetype": "text/x-python",
   "name": "python",
   "nbconvert_exporter": "python",
   "pygments_lexer": "ipython3",
   "version": "3.10.9"
  }
 },
 "nbformat": 4,
 "nbformat_minor": 5
}
